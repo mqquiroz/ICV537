{
  "nbformat": 4,
  "nbformat_minor": 0,
  "metadata": {
    "colab": {
      "provenance": [],
      "authorship_tag": "ABX9TyPrVHKzWNkNuqBk/xdpNFb/",
      "include_colab_link": true
    },
    "kernelspec": {
      "name": "python3",
      "display_name": "Python 3"
    },
    "language_info": {
      "name": "python"
    }
  },
  "cells": [
    {
      "cell_type": "markdown",
      "metadata": {
        "id": "view-in-github",
        "colab_type": "text"
      },
      "source": [
        "<a href=\"https://colab.research.google.com/github/mqquiroz/ICV537/blob/main/Sistemas_Nolineales_NewtonRaphson.ipynb\" target=\"_parent\"><img src=\"https://colab.research.google.com/assets/colab-badge.svg\" alt=\"Open In Colab\"/></a>"
      ]
    },
    {
      "cell_type": "markdown",
      "source": [
        "##Newton-Raphson para sistemas de ecuaciones no lineales\n",
        "\n",
        "El método de Newton-Raphson para resolver ecuaciones no lineales puede extenderse y aplicarse en sistemas de ecuaciones. Para esto, la ecuación que permite aproximar unas raíz de una ecuación es:\n",
        "\n",
        "$$x_i=x_{i-1}-\\frac{f\\left(x_{i-1}\\right)}{f^{\\prime}\\left(x_{i-1}\\right)}$$\n",
        "\n",
        "Debe generalizarse, y en lugar de tener una función y su derivada, se tiene una matriz de funcioners en conjunto con una matriz de derivadas parciales (Matriz Jacobiana). Así se tiene que:\n",
        "\n",
        "$$X_{i}=X_{i-1}-J\\left(x_{i-1}\\right)^{-1}\\cdot F\\left(x_{i-1}\\right)$$\n",
        "\n",
        "Donde: \n",
        "\n",
        "$F$ es el vector de funciones:\n",
        "\n",
        "$$F\\left(x_1, x_2, \\cdots, x_n\\right)=\\left(\\begin{array}{c}f_1\\left(x_1, x_2, \\cdots, x_n\\right) \\\\ f_2\\left(x_1, x_2, \\cdots, x_n\\right) \\\\ \\vdots \\\\ f_n\\left(x_1, x_2, \\cdots, x_n\\right)\\end{array}\\right)$$\n",
        "\n",
        "$J$ es la matriz de derivadas parciales:\n",
        "\n",
        "$$J\\left(x_1, x_2, \\cdots, x_n\\right)=\\left(\\begin{array}{cccc}\\frac{\\partial f_1}{\\partial x_1} & \\frac{\\partial f_1}{\\partial x_2} & \\cdots & \\frac{\\partial f_1}{\\partial x_n} \\\\ \\frac{\\partial f_2}{\\partial x_1} & \\frac{\\partial f_2}{\\partial x_2} & \\cdots & \\frac{\\partial f_2}{\\partial x_n} \\\\ \\vdots & \\vdots & \\cdots & \\vdots \\\\ \\frac{\\partial f_n}{\\partial x_1} & \\frac{\\partial f_n}{\\partial x_2} & \\cdots & \\frac{\\partial f_n}{\\partial x_n}\\end{array}\\right)$$\n",
        "\n",
        "Además note que $J\\left(x_{i-1}\\right)^{-1}\\cdot F\\left(x_{i-1}\\right)$ consiste en resolver el sistema de ecuaciones:\n",
        "\n",
        "$$J\\left(x_{i-1}\\right) X=F\\left(x_{i-1}\\right)$$"
      ],
      "metadata": {
        "id": "byOq8uJd-c0w"
      }
    },
    {
      "cell_type": "markdown",
      "source": [
        "##Ejemplo\n",
        "\n",
        "Utilice el método de Newton-Raphson para aproximar una solución del siguiente sistema de ecuaciones, utilice como aproximaciones iniciales $x_{0} = 1.5$ e $y_{0}=3.5$\n",
        "\n",
        "\n",
        "$$\\begin{aligned} x^2+x y-10 &=0 \\\\ y+3 x y^2 &=57 \\end{aligned}$$\n",
        "\n",
        "Construimos el vector $F$ y la Matriz $J$, tal que: \n",
        "\n",
        "$$F=\\left(\\begin{array}{c}x^2+x y-10 \\\\ y+3 x y^2-57\\end{array}\\right)\\quad\\quad\\quad J=\\left(\\begin{array}{cc}2 x+y & x \\\\ 3 y^2 & 1+6 x y\\end{array}\\right)$$\n",
        "\n",
        "Y resolvemos iterativamente como:\n",
        "\n",
        "$$X_{i}=X_{i-1}-J\\left(x_{i-1}\\right)^{-1}\\cdot F\\left(x_{i-1}\\right)$$"
      ],
      "metadata": {
        "id": "lF2neQ-RPJn5"
      }
    },
    {
      "cell_type": "code",
      "execution_count": null,
      "metadata": {
        "id": "sldDs_38L3tc"
      },
      "outputs": [],
      "source": [
        "import numpy as np\n",
        "import matplotlib.pyplot as plt"
      ]
    },
    {
      "cell_type": "code",
      "source": [],
      "metadata": {
        "id": "lpjVzj5URai6"
      },
      "execution_count": null,
      "outputs": []
    },
    {
      "cell_type": "code",
      "source": [
        "f1 = lambda x,y: x**2 + x*y - 10\n",
        "f2 = lambda x,y: y + 3*x*(y**2) -57\n",
        "\n",
        "df1dx = lambda x,y: 2*x + y\n",
        "df1dy = lambda x,y: x\n",
        "df2dx = lambda x,y: 3*(y**2)\n",
        "df2dy = lambda x,y: 1 + 6*x*y"
      ],
      "metadata": {
        "id": "XDltgTG3001c"
      },
      "execution_count": null,
      "outputs": []
    },
    {
      "cell_type": "code",
      "source": [
        "def newton_raphson(f1,f2,df1dx,df1dy,df2dx,df2dy,x0,y0,tol):\n",
        "  F0 = np.array([[f1(x0,y0)],[f2(x0,y0)]])\n",
        "  J0 = np.array([[df1dx(x0,y0),df1dy(x0,y0)],[df2dx(x0,y0),df2dy(x0,y0)]])\n",
        "  X0 = np.array([[x0],[y0]])\n",
        "  JF0 = np.linalg.inv(J0)@F0\n",
        "  X = X0 - JF0\n",
        "  x,y = np.squeeze(X)\n",
        "  while True: \n",
        "    F = np.array([[f1(x,y)],[f2(x,y)]])\n",
        "    J = np.array([[df1dx(x,y),df1dy(x,y)],[df2dx(x,y),df2dy(x,y)]])\n",
        "    X = np.array([[x],[y]])\n",
        "    \n",
        "    JF = np.linalg.inv(J)@F\n",
        "\n",
        "    XX = X - JF\n",
        "    if np.max(np.abs(JF/X)) <= tol:\n",
        "      break\n",
        "    else:\n",
        "      x, y = np.squeeze(XX)\n",
        "  return np.squeeze(X)"
      ],
      "metadata": {
        "id": "ZRBGB8pX1zAl"
      },
      "execution_count": null,
      "outputs": []
    },
    {
      "cell_type": "code",
      "source": [
        "newton_raphson(f1,f2,df1dx,df1dy,df2dx,df2dy,1.5,3.5,1e-7)"
      ],
      "metadata": {
        "colab": {
          "base_uri": "https://localhost:8080/"
        },
        "id": "mepGGZpR22aY",
        "outputId": "9f977cff-6d9a-42f0-977d-0810c19559ff"
      },
      "execution_count": null,
      "outputs": [
        {
          "output_type": "execute_result",
          "data": {
            "text/plain": [
              "array([2., 3.])"
            ]
          },
          "metadata": {},
          "execution_count": 43
        }
      ]
    },
    {
      "cell_type": "markdown",
      "source": [
        "La solución obtenida es $X = [2,3]$, reemplazando en el sistema de ecuaciones, por $x = 2$ e $y = 3$:\n",
        "\n",
        "$$\\begin{aligned} (2)^2+ (2)(3) - 10 &=0 \\\\ (3) + 3(2)(3)^2 & = 57 \\end{aligned}$$\n",
        "\n",
        "Lo cual se verifica que cumple."
      ],
      "metadata": {
        "id": "W4FNCgpDn0cg"
      }
    }
  ]
}