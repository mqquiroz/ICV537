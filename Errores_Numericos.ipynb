{
  "nbformat": 4,
  "nbformat_minor": 0,
  "metadata": {
    "colab": {
      "provenance": [],
      "authorship_tag": "ABX9TyOgw4uO3q0iBNHR9ZvauV3z",
      "include_colab_link": true
    },
    "kernelspec": {
      "name": "python3",
      "display_name": "Python 3"
    },
    "language_info": {
      "name": "python"
    }
  },
  "cells": [
    {
      "cell_type": "markdown",
      "metadata": {
        "id": "view-in-github",
        "colab_type": "text"
      },
      "source": [
        "<a href=\"https://colab.research.google.com/github/mqquiroz/ICV537/blob/main/Errores_Numericos.ipynb\" target=\"_parent\"><img src=\"https://colab.research.google.com/assets/colab-badge.svg\" alt=\"Open In Colab\"/></a>"
      ]
    },
    {
      "cell_type": "markdown",
      "source": [
        "# ICV537: Principios de Modelación en Sistemas Hídricos\n",
        "## Universidad Católica del Maule\n",
        "### Errores Numéricos\n",
        "Los Errores numéricos son los de Redondeo y truncamiento"
      ],
      "metadata": {
        "id": "Wdcu2UfRtr6g"
      }
    },
    {
      "cell_type": "markdown",
      "source": [
        "### Errores de Redondeo\n",
        "\n",
        "los errores de redondeo se deben a la representación aproximada de números de punto flotante"
      ],
      "metadata": {
        "id": "iffRGjg6uOdl"
      }
    },
    {
      "cell_type": "code",
      "execution_count": null,
      "metadata": {
        "colab": {
          "base_uri": "https://localhost:8080/"
        },
        "id": "ZHsyDMqitpwW",
        "outputId": "048dbcd1-6f52-4bef-80fa-d5d6e7afcb0d"
      },
      "outputs": [
        {
          "output_type": "stream",
          "name": "stdout",
          "text": [
            "3.141592653589793\n"
          ]
        }
      ],
      "source": [
        "from math import pi\n",
        "print(pi)"
      ]
    },
    {
      "cell_type": "markdown",
      "source": [
        "$\\pi = 3.1415926535897932384626433832795028841971693993\\dots$"
      ],
      "metadata": {
        "id": "KfgYDkARuysf"
      }
    },
    {
      "cell_type": "markdown",
      "source": [
        "####Cancelación sustractiva\n",
        "\n",
        "se presenta cuando se lleva a cabo la sustracción entre números casi iguales\n",
        "\n",
        "$x = 1$\n",
        "\n",
        "$y = 1 + 10^{-15}\\sqrt{2}$"
      ],
      "metadata": {
        "id": "N0WuPnrwwe44"
      }
    },
    {
      "cell_type": "code",
      "source": [
        "from math import sqrt\n",
        "\n",
        "x = 1.0\n",
        "y = 1.0+1e-15*sqrt(2)\n",
        "dt = 1e-15*sqrt(2)\n",
        "dn = y-x\n",
        "print('dt =',dt)\n",
        "print('dn =',dn)\n",
        "print('Error relativo =',abs((dt-dn)/dn), ' (error del orden del 6%)')"
      ],
      "metadata": {
        "colab": {
          "base_uri": "https://localhost:8080/"
        },
        "id": "7Ezwqa0Tw2VF",
        "outputId": "59ec98e6-26f1-4b1d-c99d-132847bf8ac0"
      },
      "execution_count": null,
      "outputs": [
        {
          "output_type": "stream",
          "name": "stdout",
          "text": [
            "dt = 1.4142135623730953e-15\n",
            "dn = 1.3322676295501878e-15\n",
            "Error relativo = 0.06150861208762892  (error del orden del 6%)\n"
          ]
        }
      ]
    },
    {
      "cell_type": "markdown",
      "source": [
        "acumulación similar de redondeo en adición (número grande + número pequeño)"
      ],
      "metadata": {
        "id": "mzFf631yyIOf"
      }
    },
    {
      "cell_type": "markdown",
      "source": [
        "### Errores de Truncamiento\n",
        "\n",
        "Los errores de truncamiento se crean al truncar las matemáticas.\n",
        "\n",
        "Ejemplo: Serie de MacLaurin (Serie de Taylor en torno a 0) para función exponencial:\n",
        "\n",
        "$e^{x} = \\displaystyle\\sum_{n=0}^{\\infty}\\frac{x^{n}}{n!} \\approx 1 + x + \\frac{x^{2}}{2!}$"
      ],
      "metadata": {
        "id": "XPfL0HiPymHr"
      }
    }
  ]
}