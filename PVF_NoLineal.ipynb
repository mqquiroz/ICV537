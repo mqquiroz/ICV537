{
  "nbformat": 4,
  "nbformat_minor": 0,
  "metadata": {
    "colab": {
      "provenance": [],
      "authorship_tag": "ABX9TyPXO7NXP1q/akQx0RlqSIo3",
      "include_colab_link": true
    },
    "kernelspec": {
      "name": "python3",
      "display_name": "Python 3"
    },
    "language_info": {
      "name": "python"
    }
  },
  "cells": [
    {
      "cell_type": "markdown",
      "metadata": {
        "id": "view-in-github",
        "colab_type": "text"
      },
      "source": [
        "<a href=\"https://colab.research.google.com/github/mqquiroz/ICV537/blob/main/PVF_NoLineal.ipynb\" target=\"_parent\"><img src=\"https://colab.research.google.com/assets/colab-badge.svg\" alt=\"Open In Colab\"/></a>"
      ]
    },
    {
      "cell_type": "markdown",
      "source": [
        "##Problemas de Valor en la Frontera No Lineal\n",
        "\n",
        "Considere el siguiente PVF no lineal en el dominio $x$ $[0,1]$ dado por:\n",
        "\n",
        "$$\\frac{d^2 v}{d x^2}=3 v+x^2+10 v^3, \\quad v(0)=v(1)=0$$\n",
        "\n",
        "Dividimos el dominio en $n$ intervalos iguales de longitud $\\Delta x$. Usando una aproximación de diferencia finita (DF), obtenemos:\n",
        "\n",
        "$$v_{i+1}-2 v_i+v_{i-1}-\\Delta x^2\\left(3 v_i+ i^2\\Delta x^2+10 v_i^3\\right)=0, \\quad i=1,2, \\dots n$$\n",
        "\n",
        "Las condiciones de borde dan las dos ecuaciones restantes, es decir, $v_1 = 0$ y $v_{n+1}=0$. Las ecuaciones de DF para el problema no lineal anterior difieren de las obtenidas para un PVF lineal. \n",
        "\n",
        "La aproximación de DF del PVF lineal da como resultado un sistema de ecuaciones lineales mientras que la del PVF no lineal da como resultado un sistema de ecuaciones no lineales. En la ecuación aquí presentada, la no linealidad surge del término cúbico en $v$ presente en el PVF. \n",
        "\n",
        "La solución de las $n+1$ ecuaciones no lineales se puede obtener usando el método de Newton-Raphson donde las incógnitas son $v_1, v_2, \\cdots , v_{n+1}$. \n",
        "\n",
        "Recuerde que el método de Newton-Raphson es iterativo y requiere la solución de un sistema de ecuaciones lineales en cada paso de iteración. Una vez más vemos que la solución de un sistema de ecuaciones lineales es de hecho un problema central de la computación científica."
      ],
      "metadata": {
        "id": "GtpGzCX9qyWU"
      }
    },
    {
      "cell_type": "code",
      "execution_count": null,
      "metadata": {
        "id": "tE0e7BmSp0Xq"
      },
      "outputs": [],
      "source": []
    }
  ]
}